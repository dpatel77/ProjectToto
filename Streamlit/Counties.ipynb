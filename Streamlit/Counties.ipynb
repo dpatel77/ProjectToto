{
 "cells": [
  {
   "cell_type": "markdown",
   "metadata": {},
   "source": [
    "## Color coded counties / groups"
   ]
  },
  {
   "cell_type": "code",
   "execution_count": 1,
   "metadata": {},
   "outputs": [
    {
     "name": "stdout",
     "output_type": "stream",
     "text": [
      "Sioux Falls Skywarn Program Counties: ['Lyon', 'Osceola', 'Dickinson', 'Sioux', 'OBrien', 'Clay', 'Plymouth', 'Cherokee', 'Buena Vista', 'Woodbury', 'Ida']\n",
      "Des Moines Skywarn Program Counties: ['Emmet', 'Palo Alto', 'Kossuth', 'Winnebago', 'Worth', 'Hancock', 'Cerro Gordo', 'Pocahontas', 'Humboldt', 'Wright', 'Franklin', 'Butler', 'Bremer', 'Black Hawk', 'Sac', 'Calhoun', 'Webster', 'Hamilton', 'Hardin', 'Grundy', 'Crawford', 'Carrol', 'Greene', 'Boone', 'Story', 'Marshall', 'Tama', 'Audubon', 'Guthrie', 'Dallas', 'Polk', 'Jasper', 'Poweshiek', 'Cass', 'Adair', 'Madison', 'Warren', 'Marion', 'Mahaska', 'Adams', 'Union', 'Clarke', 'Lucas', 'Monroe', 'Wapello', 'Taylor', 'Ringgold', 'Decature', 'Wayne', 'Appanoose', 'Davis']\n",
      "La Crosse Skywarn Program Counties: ['Mitchell', 'Howard', 'Winneshiek', 'Allamakee', 'Fayette', 'Clayton', 'Floyd', 'Chickasaw']\n",
      "Omaha Skywarn Program Counties: ['Monona', 'Harrison', 'Shelby', 'Pottawattamie', 'Mills', 'Montgomery', 'Fremont', 'Page']\n",
      "Davenport Skywarn Program Counties: ['Lee', 'Des Moines', 'Henry', 'Van Buren', 'Jefferson', 'Louisa', 'Washington', 'Keokuk', 'Iowa', 'Johnson', 'Muscatine', 'Cedar', 'Scott', 'Clinton', 'Jackson', 'Jones', 'Linn', 'Benton', 'Buchanan', 'Delaware', 'Dubuque']\n"
     ]
    }
   ],
   "source": [
    "# Defining each group of counties by their colors\n",
    "\n",
    "\n",
    "sioux_falls_program = ['Lyon', 'Osceola', 'Dickinson', 'Sioux','OBrien','Clay','Plymouth','Cherokee','Buena Vista','Woodbury','Ida']\n",
    "la_crosse_program = ['Mitchell', 'Howard', 'Winneshiek', 'Allamakee', 'Fayette', 'Clayton','Floyd', 'Chickasaw']\n",
    "omaha_program = ['Monona','Harrison', 'Shelby', 'Pottawattamie','Mills','Montgomery','Fremont','Page']\n",
    "davenport_program = ['Lee', 'Des Moines', 'Henry', 'Van Buren', 'Jefferson', 'Louisa', 'Washington', 'Keokuk','Iowa', 'Johnson', 'Muscatine', 'Cedar', 'Scott', 'Clinton','Jackson', 'Jones', 'Linn' ,'Benton', 'Buchanan', 'Delaware', 'Dubuque']\n",
    "des_moines_program = ['Emmet','Palo Alto','Kossuth','Winnebago','Worth','Hancock','Cerro Gordo','Pocahontas','Humboldt','Wright','Franklin','Butler','Bremer','Black Hawk','Sac', 'Calhoun' ,'Webster','Hamilton', 'Hardin','Grundy','Crawford','Carrol','Greene','Boone','Story','Marshall','Tama','Audubon','Guthrie','Dallas','Polk','Jasper','Poweshiek','Cass','Adair','Madison','Warren','Marion','Mahaska','Adams','Union','Clarke','Lucas','Monroe', 'Wapello','Taylor','Ringgold', 'Decature','Wayne', 'Appanoose','Davis' ]\n",
    "\n",
    "print(\"Sioux Falls Skywarn Program Counties:\", sioux_falls_program)\n",
    "print(\"Des Moines Skywarn Program Counties:\", des_moines_program)\n",
    "print(\"La Crosse Skywarn Program Counties:\", la_crosse_program)\n",
    "print(\"Omaha Skywarn Program Counties:\", omaha_program)\n",
    "print(\"Davenport Skywarn Program Counties:\", davenport_program)\n"
   ]
  },
  {
   "cell_type": "code",
   "execution_count": 2,
   "metadata": {},
   "outputs": [
    {
     "data": {
      "text/plain": [
       "(11, 8, 51, 8, 21)"
      ]
     },
     "execution_count": 2,
     "metadata": {},
     "output_type": "execute_result"
    }
   ],
   "source": [
    "len(sioux_falls_program), len(omaha_program), len(des_moines_program), len(la_crosse_program), len(davenport_program)"
   ]
  },
  {
   "cell_type": "code",
   "execution_count": null,
   "metadata": {},
   "outputs": [],
   "source": []
  }
 ],
 "metadata": {
  "kernelspec": {
   "display_name": "Python 3",
   "language": "python",
   "name": "python3"
  },
  "language_info": {
   "codemirror_mode": {
    "name": "ipython",
    "version": 3
   },
   "file_extension": ".py",
   "mimetype": "text/x-python",
   "name": "python",
   "nbconvert_exporter": "python",
   "pygments_lexer": "ipython3",
   "version": "3.11.4"
  }
 },
 "nbformat": 4,
 "nbformat_minor": 2
}
